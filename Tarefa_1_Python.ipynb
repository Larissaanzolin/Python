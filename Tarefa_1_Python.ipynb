{
  "nbformat": 4,
  "nbformat_minor": 0,
  "metadata": {
    "colab": {
      "provenance": [],
      "collapsed_sections": [],
      "authorship_tag": "ABX9TyNo03xsC/goWxBSqDd8cjSJ",
      "include_colab_link": true
    },
    "kernelspec": {
      "name": "python3",
      "display_name": "Python 3"
    }
  },
  "cells": [
    {
      "cell_type": "markdown",
      "metadata": {
        "id": "view-in-github",
        "colab_type": "text"
      },
      "source": [
        "<a href=\"https://colab.research.google.com/github/Larissaanzolin/Python/blob/main/Tarefa_1_Python.ipynb\" target=\"_parent\"><img src=\"https://colab.research.google.com/assets/colab-badge.svg\" alt=\"Open In Colab\"/></a>"
      ]
    },
    {
      "cell_type": "code",
      "metadata": {
        "colab": {
          "base_uri": "https://localhost:8080/"
        },
        "id": "VQpU7eX2el5N",
        "outputId": "29a879dc-fa8f-4bf6-f1a2-5c45fa20dd88"
      },
      "source": [
        "!pip install control\n"
      ],
      "execution_count": null,
      "outputs": [
        {
          "output_type": "stream",
          "text": [
            "Collecting control\n",
            "\u001b[?25l  Downloading https://files.pythonhosted.org/packages/e9/7f/e903340dde3ad2be21578828a23d80b47f4163443310882b05da96fba5f4/control-0.8.4.tar.gz (261kB)\n",
            "\r\u001b[K     |█▎                              | 10kB 13.5MB/s eta 0:00:01\r\u001b[K     |██▌                             | 20kB 15.8MB/s eta 0:00:01\r\u001b[K     |███▊                            | 30kB 9.8MB/s eta 0:00:01\r\u001b[K     |█████                           | 40kB 8.5MB/s eta 0:00:01\r\u001b[K     |██████▎                         | 51kB 4.6MB/s eta 0:00:01\r\u001b[K     |███████▌                        | 61kB 5.2MB/s eta 0:00:01\r\u001b[K     |████████▊                       | 71kB 5.2MB/s eta 0:00:01\r\u001b[K     |██████████                      | 81kB 5.6MB/s eta 0:00:01\r\u001b[K     |███████████▎                    | 92kB 5.7MB/s eta 0:00:01\r\u001b[K     |████████████▌                   | 102kB 6.1MB/s eta 0:00:01\r\u001b[K     |█████████████▊                  | 112kB 6.1MB/s eta 0:00:01\r\u001b[K     |███████████████                 | 122kB 6.1MB/s eta 0:00:01\r\u001b[K     |████████████████▎               | 133kB 6.1MB/s eta 0:00:01\r\u001b[K     |█████████████████▌              | 143kB 6.1MB/s eta 0:00:01\r\u001b[K     |██████████████████▊             | 153kB 6.1MB/s eta 0:00:01\r\u001b[K     |████████████████████            | 163kB 6.1MB/s eta 0:00:01\r\u001b[K     |█████████████████████▎          | 174kB 6.1MB/s eta 0:00:01\r\u001b[K     |██████████████████████▌         | 184kB 6.1MB/s eta 0:00:01\r\u001b[K     |███████████████████████▉        | 194kB 6.1MB/s eta 0:00:01\r\u001b[K     |█████████████████████████       | 204kB 6.1MB/s eta 0:00:01\r\u001b[K     |██████████████████████████▎     | 215kB 6.1MB/s eta 0:00:01\r\u001b[K     |███████████████████████████▌    | 225kB 6.1MB/s eta 0:00:01\r\u001b[K     |████████████████████████████▉   | 235kB 6.1MB/s eta 0:00:01\r\u001b[K     |██████████████████████████████  | 245kB 6.1MB/s eta 0:00:01\r\u001b[K     |███████████████████████████████▎| 256kB 6.1MB/s eta 0:00:01\r\u001b[K     |████████████████████████████████| 266kB 6.1MB/s \n",
            "\u001b[?25hRequirement already satisfied: numpy in /usr/local/lib/python3.7/dist-packages (from control) (1.19.5)\n",
            "Requirement already satisfied: scipy in /usr/local/lib/python3.7/dist-packages (from control) (1.4.1)\n",
            "Requirement already satisfied: matplotlib in /usr/local/lib/python3.7/dist-packages (from control) (3.2.2)\n",
            "Requirement already satisfied: kiwisolver>=1.0.1 in /usr/local/lib/python3.7/dist-packages (from matplotlib->control) (1.3.1)\n",
            "Requirement already satisfied: cycler>=0.10 in /usr/local/lib/python3.7/dist-packages (from matplotlib->control) (0.10.0)\n",
            "Requirement already satisfied: python-dateutil>=2.1 in /usr/local/lib/python3.7/dist-packages (from matplotlib->control) (2.8.1)\n",
            "Requirement already satisfied: pyparsing!=2.0.4,!=2.1.2,!=2.1.6,>=2.0.1 in /usr/local/lib/python3.7/dist-packages (from matplotlib->control) (2.4.7)\n",
            "Requirement already satisfied: six in /usr/local/lib/python3.7/dist-packages (from cycler>=0.10->matplotlib->control) (1.15.0)\n",
            "Building wheels for collected packages: control\n",
            "  Building wheel for control (setup.py) ... \u001b[?25l\u001b[?25hdone\n",
            "  Created wheel for control: filename=control-0.8.4-py2.py3-none-any.whl size=276947 sha256=c84a12e019776ac7eacb2c1d46830c38f9b74214cc4179b85bb37a27e5d647eb\n",
            "  Stored in directory: /root/.cache/pip/wheels/3e/a4/9a/8b6ad43fcb2aba7debf8188b60a3def7aaa9a11582b7929ead\n",
            "Successfully built control\n",
            "Installing collected packages: control\n",
            "Successfully installed control-0.8.4\n"
          ],
          "name": "stdout"
        }
      ]
    },
    {
      "cell_type": "code",
      "metadata": {
        "id": "AypSOyR8fpNW"
      },
      "source": [
        "import control.matlab as ctr\n",
        "import matplotlib.pyplot as plt"
      ],
      "execution_count": null,
      "outputs": []
    },
    {
      "cell_type": "markdown",
      "metadata": {
        "id": "Fwx38TKbh_nl"
      },
      "source": [
        "# Questão 1:"
      ]
    },
    {
      "cell_type": "code",
      "metadata": {
        "colab": {
          "base_uri": "https://localhost:8080/"
        },
        "id": "I4TzZWu-f4zi",
        "outputId": "25a3e9a2-857e-4cf8-c561-7d57072b4c86"
      },
      "source": [
        "num1 = [4]\n",
        "den1 = [1,0]\n",
        "G1 = ctr.tf(num1,den1)\n",
        "print(G1)"
      ],
      "execution_count": null,
      "outputs": [
        {
          "output_type": "stream",
          "text": [
            "\n",
            "4\n",
            "-\n",
            "s\n",
            "\n"
          ],
          "name": "stdout"
        }
      ]
    },
    {
      "cell_type": "code",
      "metadata": {
        "colab": {
          "base_uri": "https://localhost:8080/"
        },
        "id": "SFRqeRBRgflp",
        "outputId": "4b81a512-87e5-4fc1-d8fa-b69dea4bbc7f"
      },
      "source": [
        "num2 = [2]\n",
        "dem2 = [1]\n",
        "G2 = ctr.tf(num2,dem2)\n",
        "print(G2)"
      ],
      "execution_count": null,
      "outputs": [
        {
          "output_type": "stream",
          "text": [
            "\n",
            "2\n",
            "-\n",
            "1\n",
            "\n"
          ],
          "name": "stdout"
        }
      ]
    },
    {
      "cell_type": "code",
      "metadata": {
        "colab": {
          "base_uri": "https://localhost:8080/"
        },
        "id": "U0AUf7p3g4-O",
        "outputId": "340f46bd-d8df-4e64-899a-9438aa80d43e"
      },
      "source": [
        "num3 = [1]\n",
        "dem3 = [1,0]\n",
        "G3 = ctr.tf(num3,dem3)\n",
        "print(G3)"
      ],
      "execution_count": null,
      "outputs": [
        {
          "output_type": "stream",
          "text": [
            "\n",
            "1\n",
            "-\n",
            "s\n",
            "\n"
          ],
          "name": "stdout"
        }
      ]
    },
    {
      "cell_type": "markdown",
      "metadata": {
        "id": "0ZbZlPimhE6q"
      },
      "source": [
        "Blocos em paralelo"
      ]
    },
    {
      "cell_type": "code",
      "metadata": {
        "colab": {
          "base_uri": "https://localhost:8080/"
        },
        "id": "BQRPJZm8hQO-",
        "outputId": "955dac02-2e5e-4b9e-b7dc-2efbed0fea11"
      },
      "source": [
        "Gparalelo = G1 + G2\n",
        "print (Gparalelo)"
      ],
      "execution_count": null,
      "outputs": [
        {
          "output_type": "stream",
          "text": [
            "\n",
            "2 s + 4\n",
            "-------\n",
            "   s\n",
            "\n"
          ],
          "name": "stdout"
        }
      ]
    },
    {
      "cell_type": "markdown",
      "metadata": {
        "id": "tZ4c0AqLhh83"
      },
      "source": [
        "Blocos em série"
      ]
    },
    {
      "cell_type": "code",
      "metadata": {
        "colab": {
          "base_uri": "https://localhost:8080/"
        },
        "id": "PbsYud_Chnce",
        "outputId": "987bd43e-cfbc-454a-9491-d9060a2a8338"
      },
      "source": [
        "Gserie = G3 * Gparalelo\n",
        "print(Gserie)"
      ],
      "execution_count": null,
      "outputs": [
        {
          "output_type": "stream",
          "text": [
            "\n",
            "2 s + 4\n",
            "-------\n",
            "  s^2\n",
            "\n"
          ],
          "name": "stdout"
        }
      ]
    },
    {
      "cell_type": "markdown",
      "metadata": {
        "id": "_OfqYMSih-DO"
      },
      "source": [
        "## Questão 2:"
      ]
    },
    {
      "cell_type": "code",
      "metadata": {
        "colab": {
          "base_uri": "https://localhost:8080/"
        },
        "id": "WFGmvoIyjPM2",
        "outputId": "3b9c671c-1659-47f1-9373-e7e2da6523ed"
      },
      "source": [
        "num= [25]\n",
        "dem = [1,6,25]\n",
        "G = ctr.tf(num,dem)\n",
        "print(G)"
      ],
      "execution_count": null,
      "outputs": [
        {
          "output_type": "stream",
          "text": [
            "\n",
            "      25\n",
            "--------------\n",
            "s^2 + 6 s + 25\n",
            "\n"
          ],
          "name": "stdout"
        }
      ]
    },
    {
      "cell_type": "code",
      "metadata": {
        "id": "8PMjt9ZmiwUo"
      },
      "source": [
        "import matplotlib.pyplot as plt\n",
        "y, t =ctr.step(G)"
      ],
      "execution_count": null,
      "outputs": []
    },
    {
      "cell_type": "code",
      "metadata": {
        "colab": {
          "base_uri": "https://localhost:8080/",
          "height": 295
        },
        "id": "5Ka_jOiuiIlV",
        "outputId": "d94ede9d-bdb5-42b1-c09e-8014a69e3325"
      },
      "source": [
        "wn =5.25\n",
        "zeta = 0.59\n",
        "\n",
        "F = ctr.tf([wn**2],[1,2*zeta*wn, wn**2])\n",
        "\n",
        "y, t =ctr.step(F)\n",
        "\n",
        "plt.plot(t,y)\n",
        "plt.xlabel('Tempo, segundos')\n",
        "plt.ylabel('Saída $y(t)$')\n",
        "plt.title('Resposta ao Degrau unitário')\n",
        "plt.grid()"
      ],
      "execution_count": null,
      "outputs": [
        {
          "output_type": "display_data",
          "data": {
            "image/png": "[encoded data removed]",
            "text/plain": [
              "<Figure size 432x288 with 1 Axes>"
            ]
          },
          "metadata": {
            "tags": [],
            "needs_background": "light"
          }
        }
      ]
    },
    {
      "cell_type": "code",
      "metadata": {
        "colab": {
          "base_uri": "https://localhost:8080/"
        },
        "id": "M9u1Ahwnj8KZ",
        "outputId": "2122fb17-ec13-41f4-e1ba-4638d0355732"
      },
      "source": [
        "print(F)"
      ],
      "execution_count": null,
      "outputs": [
        {
          "output_type": "stream",
          "text": [
            "\n",
            "      25\n",
            "--------------\n",
            "s^2 + 6 s + 25\n",
            "\n"
          ],
          "name": "stdout"
        }
      ]
    },
    {
      "cell_type": "code",
      "metadata": {
        "colab": {
          "base_uri": "https://localhost:8080/"
        },
        "id": "z936DgbRj8yE",
        "outputId": "0c4f96ec-21ae-4e4e-f152-85ada686d655"
      },
      "source": [
        "ctr.damp(F)"
      ],
      "execution_count": null,
      "outputs": [
        {
          "output_type": "stream",
          "text": [
            "_____Eigenvalue______ Damping___ Frequency_\n",
            "        -3        +4j        0.6          5\n",
            "        -3        -4j        0.6          5\n"
          ],
          "name": "stdout"
        },
        {
          "output_type": "execute_result",
          "data": {
            "text/plain": [
              "(array([5., 5.]), array([0.6, 0.6]), array([-3.+4.j, -3.-4.j]))"
            ]
          },
          "metadata": {
            "tags": []
          },
          "execution_count": 26
        }
      ]
    },
    {
      "cell_type": "code",
      "metadata": {
        "colab": {
          "base_uri": "https://localhost:8080/"
        },
        "id": "A3uLlABwkAIF",
        "outputId": "887a6d2a-ff6b-457f-e60b-4d069a60e900"
      },
      "source": [
        "ctr.stepinfo(F)"
      ],
      "execution_count": null,
      "outputs": [
        {
          "output_type": "execute_result",
          "data": {
            "text/plain": [
              "{'Overshoot': 10.433577015281607,\n",
              " 'Peak': 1.094772667846251,\n",
              " 'PeakTime': 0.7828789316179755,\n",
              " 'RiseTime': 0.3684136148790473,\n",
              " 'SettlingMax': 1.094772667846251,\n",
              " 'SettlingMin': 0.9082907585505842,\n",
              " 'SettlingTime': 1.2587465175034116,\n",
              " 'SteadyStateValue': 0.9913404033763737,\n",
              " 'Undershoot': 0.0}"
            ]
          },
          "metadata": {
            "tags": []
          },
          "execution_count": 27
        }
      ]
    },
    {
      "cell_type": "code",
      "metadata": {
        "id": "rumyVOxjkEFH"
      },
      "source": [],
      "execution_count": null,
      "outputs": []
    }
  ]
}